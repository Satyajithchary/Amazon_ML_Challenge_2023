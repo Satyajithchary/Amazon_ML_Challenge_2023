{
  "metadata": {
    "kernelspec": {
      "language": "python",
      "display_name": "Python 3",
      "name": "python3"
    },
    "language_info": {
      "name": "python",
      "version": "3.7.12",
      "mimetype": "text/x-python",
      "codemirror_mode": {
        "name": "ipython",
        "version": 3
      },
      "pygments_lexer": "ipython3",
      "nbconvert_exporter": "python",
      "file_extension": ".py"
    },
    "colab": {
      "provenance": []
    }
  },
  "nbformat_minor": 0,
  "nbformat": 4,
  "cells": [
    {
      "cell_type": "code",
      "source": [
        "# This Python 3 environment comes with many helpful analytics libraries installed\n",
        "# It is defined by the kaggle/python Docker image: https://github.com/kaggle/docker-python\n",
        "# For example, here's several helpful packages to load\n",
        "\n",
        "import numpy as np # linear algebra\n",
        "import pandas as pd # data processing, CSV file I/O (e.g. pd.read_csv)\n",
        "\n",
        "# Input data files are available in the read-only \"../input/\" directory\n",
        "# For example, running this (by clicking run or pressing Shift+Enter) will list all files under the input directory\n",
        "\n",
        "import os\n",
        "for dirname, _, filenames in os.walk('/kaggle/input'):\n",
        "    for filename in filenames:\n",
        "        print(os.path.join(dirname, filename))\n",
        "\n",
        "# You can write up to 20GB to the current directory (/kaggle/working/) that gets preserved as output when you create a version using \"Save & Run All\" \n",
        "# You can also write temporary files to /kaggle/temp/, but they won't be saved outside of the current session"
      ],
      "metadata": {
        "_uuid": "0dd3958f-bfb6-43c4-9c50-3de6e06e5332",
        "_cell_guid": "96d6425e-c97d-4901-a044-79daf8a9d296",
        "jupyter": {
          "outputs_hidden": false
        },
        "execution": {
          "iopub.status.busy": "2023-04-23T09:32:53.734858Z",
          "iopub.execute_input": "2023-04-23T09:32:53.735970Z",
          "iopub.status.idle": "2023-04-23T09:32:53.752041Z",
          "shell.execute_reply.started": "2023-04-23T09:32:53.735919Z",
          "shell.execute_reply": "2023-04-23T09:32:53.750858Z"
        },
        "trusted": true,
        "id": "aTvru2p2s6d8",
        "outputId": "d7b0ddc3-d299-4cb9-8975-05f802d5dd61"
      },
      "execution_count": null,
      "outputs": [
        {
          "name": "stdout",
          "text": "/kaggle/input/amazonmlchallenge2023/dataset/sample_submission.csv\n/kaggle/input/amazonmlchallenge2023/dataset/train.csv\n/kaggle/input/amazonmlchallenge2023/dataset/test.csv\n",
          "output_type": "stream"
        }
      ]
    },
    {
      "cell_type": "code",
      "source": [
        "import requests\n",
        "\n",
        "url=\"https://s3-ap-southeast-1.amazonaws.com/he-public-data/datasetb2d9982.zip\"\n",
        "\n",
        "r = requests.get(url)\n",
        "\n",
        "r.headers"
      ],
      "metadata": {
        "_uuid": "b448ab4d-8396-4596-9df5-a6b5610b8759",
        "_cell_guid": "95211ae0-a8f2-4931-8f91-2fbaa4e31ce7",
        "jupyter": {
          "outputs_hidden": false
        },
        "trusted": true,
        "id": "ilhTntwos6d_"
      },
      "execution_count": null,
      "outputs": []
    },
    {
      "cell_type": "code",
      "source": [
        "import os\n",
        "\n",
        "# set the path to the directory where the files were extracted\n",
        "dir_path = \"/path/to/extract\"\n",
        "\n",
        "# use the os.listdir() method to get a list of all files in the directory\n",
        "files = os.listdir(dir_path)\n",
        "\n",
        "# iterate over the list of files and print each file name to the console\n",
        "for file_name in files:\n",
        "    print(file_name)"
      ],
      "metadata": {
        "_uuid": "aff01393-f151-4f13-bdef-5529a6e1305f",
        "_cell_guid": "28b69c4e-f6f8-4087-b017-41e242213dd2",
        "jupyter": {
          "outputs_hidden": false
        },
        "trusted": true,
        "id": "voKAprqjs6eA"
      },
      "execution_count": null,
      "outputs": []
    },
    {
      "cell_type": "code",
      "source": [
        "import zipfile\n",
        "\n",
        "# set the path to the zip file\n",
        "zip_path = \"/path/to/dataset.zip\"\n",
        "\n",
        "# set the path to the directory where the files should be extracted\n",
        "extract_path = \"/path/to/extract\"\n",
        "\n",
        "# open the zip file and create a ZipFile object\n",
        "with zipfile.ZipFile(zip_path, \"r\") as zip_ref:\n",
        "    # extract all files to the extract_path directory\n",
        "    zip_ref.extractall(extract_path)"
      ],
      "metadata": {
        "_uuid": "6b288058-a950-40ec-804e-c9480f123faa",
        "_cell_guid": "3b6c0fce-d26c-4735-a517-0f63d874f9b6",
        "jupyter": {
          "outputs_hidden": false
        },
        "trusted": true,
        "id": "PFPmW1Ozs6eA"
      },
      "execution_count": null,
      "outputs": []
    },
    {
      "cell_type": "code",
      "source": [
        "import requests\n",
        "import zipfile\n",
        "import io\n",
        "\n",
        "# set the URL of the zip file to download\n",
        "url = \"https://s3-ap-southeast-1.amazonaws.com/he-public-data/datasetb2d9982.zip\"\n",
        "\n",
        "# send an HTTP GET request to the URL\n",
        "response = requests.get(url)\n",
        "\n",
        "# create a ZipFile object from the response content\n",
        "with zipfile.ZipFile(io.BytesIO(response.content)) as zip_file:\n",
        "    # extract all files in the zip file to a specified directory\n",
        "    zip_file.extractall(\"/path/to/extract\")"
      ],
      "metadata": {
        "_uuid": "3843fe66-1e0c-4139-a0d2-b8139655d599",
        "_cell_guid": "b47bc442-a061-4025-b0bd-00bd43e7074f",
        "jupyter": {
          "outputs_hidden": false
        },
        "trusted": true,
        "id": "83HhhRt6s6eB"
      },
      "execution_count": null,
      "outputs": []
    },
    {
      "cell_type": "code",
      "source": [
        "import csv\n",
        "import os\n",
        "\n",
        "# set the path to the directory where the CSV files were extracted\n",
        "dir_path = \"/path/to/extract\"\n",
        "\n",
        "# iterate over all files in the directory\n",
        "for file_name in os.listdir(dir_path):\n",
        "    # check if the file is a CSV file\n",
        "    if file_name.endswith(\".csv\"):\n",
        "        # open the CSV file and create a CSV reader object\n",
        "        with open(os.path.join(dir_path, file_name), newline=\"\") as csv_file:\n",
        "            csv_reader = csv.reader(csv_file)\n",
        "            # iterate over each row in the CSV file and print it to the console\n",
        "            for row in csv_reader:\n",
        "                print(row)"
      ],
      "metadata": {
        "_uuid": "9b1a0eda-a030-4c53-813e-bdeebac7d75a",
        "_cell_guid": "55245a71-3f33-463a-9414-8a866b0f9ea9",
        "jupyter": {
          "outputs_hidden": false
        },
        "trusted": true,
        "id": "crTKuWnJs6eB"
      },
      "execution_count": null,
      "outputs": []
    },
    {
      "cell_type": "code",
      "source": [
        "df = pd.read_csv(\"/kaggle/input/amazonmlchallenge2023/dataset/train.csv\")\n",
        "test_df = pd.read_csv('/kaggle/input/amazonmlchallenge2023/dataset/test.csv')"
      ],
      "metadata": {
        "_uuid": "01990113-92ac-435f-953a-faad24e0e155",
        "_cell_guid": "e39d0be5-4303-460c-8378-aa2e2ce66f03",
        "jupyter": {
          "outputs_hidden": false
        },
        "execution": {
          "iopub.status.busy": "2023-04-23T09:33:00.615474Z",
          "iopub.execute_input": "2023-04-23T09:33:00.616183Z",
          "iopub.status.idle": "2023-04-23T09:33:33.416348Z",
          "shell.execute_reply.started": "2023-04-23T09:33:00.616142Z",
          "shell.execute_reply": "2023-04-23T09:33:33.415295Z"
        },
        "trusted": true,
        "id": "bGDHHlWUs6eC"
      },
      "execution_count": null,
      "outputs": []
    },
    {
      "cell_type": "code",
      "source": [
        "print(df.head())"
      ],
      "metadata": {
        "_uuid": "3d6696ee-dc66-41a4-a0b7-a54479f96cd3",
        "_cell_guid": "27275a23-5f43-43ba-acfe-223afa842ac9",
        "jupyter": {
          "outputs_hidden": false
        },
        "execution": {
          "iopub.status.busy": "2023-04-23T09:34:10.899594Z",
          "iopub.execute_input": "2023-04-23T09:34:10.900047Z",
          "iopub.status.idle": "2023-04-23T09:34:10.918865Z",
          "shell.execute_reply.started": "2023-04-23T09:34:10.900001Z",
          "shell.execute_reply": "2023-04-23T09:34:10.917495Z"
        },
        "trusted": true,
        "id": "CdTkqcI5s6eC",
        "outputId": "490744f6-d42a-4eef-8a5f-0d9eae5d05bf"
      },
      "execution_count": null,
      "outputs": [
        {
          "name": "stdout",
          "text": "   PRODUCT_ID                                              TITLE  \\\n0     1925202  ArtzFolio Tulip Flowers Blackout Curtain for D...   \n1     2673191  Marks & Spencer Girls' Pyjama Sets T86_2561C_N...   \n2     2765088  PRIKNIK Horn Red Electric Air Horn Compressor ...   \n3     1594019  ALISHAH Women's Cotton Ankle Length Leggings C...   \n4      283658  The United Empire Loyalists: A Chronicle of th...   \n\n                                       BULLET_POINTS  \\\n0  [LUXURIOUS & APPEALING: Beautiful custom-made ...   \n1  [Harry Potter Hedwig Pyjamas (6-16 Yrs),100% c...   \n2  [Loud Dual Tone Trumpet Horn, Compatible With ...   \n3  [Made By 95%cotton and 5% Lycra which gives yo...   \n4                                                NaN   \n\n                                         DESCRIPTION  PRODUCT_TYPE_ID  \\\n0                                                NaN             1650   \n1                                                NaN             2755   \n2  Specifications: Color: Red, Material: Aluminiu...             7537   \n3  AISHAH Women's Lycra Cotton Ankel Leggings. Br...             2996   \n4                                                NaN             6112   \n\n   PRODUCT_LENGTH  \n0     2125.980000  \n1      393.700000  \n2      748.031495  \n3      787.401574  \n4      598.424000  \n",
          "output_type": "stream"
        }
      ]
    },
    {
      "cell_type": "code",
      "source": [
        "print(test_df.head())"
      ],
      "metadata": {
        "_uuid": "0d0479c0-51c1-4e8e-b4b1-191a352e5d47",
        "_cell_guid": "730fa828-cf17-495c-9779-e8159bd4b754",
        "jupyter": {
          "outputs_hidden": false
        },
        "execution": {
          "iopub.status.busy": "2023-04-23T09:34:12.087379Z",
          "iopub.execute_input": "2023-04-23T09:34:12.088544Z",
          "iopub.status.idle": "2023-04-23T09:34:12.097404Z",
          "shell.execute_reply.started": "2023-04-23T09:34:12.088495Z",
          "shell.execute_reply": "2023-04-23T09:34:12.095956Z"
        },
        "trusted": true,
        "id": "6TiAFKh2s6eC",
        "outputId": "3aca39bc-8884-4fbc-f82c-776b3ceea69b"
      },
      "execution_count": null,
      "outputs": [
        {
          "name": "stdout",
          "text": "   PRODUCT_ID                                              TITLE  \\\n0      604373  Manuel d'Héliogravure Et de Photogravure En Re...   \n1     1729783  DCGARING Microfiber Throw Blanket Warm Fuzzy P...   \n2     1871949  I-Match Auto Parts Front License Plate Bracket...   \n3     1107571  PinMart Gold Plated Excellence in Service 1 Ye...   \n4      624253  Visual Mathematics, Illustrated by the TI-92 a...   \n\n                                       BULLET_POINTS  \\\n0                                                NaN   \n1  [QUALITY GUARANTEED: Luxury cozy plush polyest...   \n2  [Front License Plate Bracket Made Of Plastic,D...   \n3  [Available as a single item or bulk packed. Se...   \n4                                                NaN   \n\n                                         DESCRIPTION  PRODUCT_TYPE_ID  \n0                                                NaN             6142  \n1  <b>DCGARING Throw Blanket</b><br><br> <b>Size ...             1622  \n2  Replacement for The Following Vehicles:2020 LE...             7540  \n3  Our Excellence in Service Lapel Pins feature a...            12442  \n4                                                NaN             6318  \n",
          "output_type": "stream"
        }
      ]
    },
    {
      "cell_type": "code",
      "source": [
        "print(df.isna().sum())"
      ],
      "metadata": {
        "_uuid": "2ca71bfd-4726-4b38-89a8-1f03f5ef0c9a",
        "_cell_guid": "2f2a4838-d0a2-464f-8352-5f2b4657ba43",
        "jupyter": {
          "outputs_hidden": false
        },
        "execution": {
          "iopub.status.busy": "2023-04-23T09:34:13.488623Z",
          "iopub.execute_input": "2023-04-23T09:34:13.489067Z",
          "iopub.status.idle": "2023-04-23T09:34:14.077148Z",
          "shell.execute_reply.started": "2023-04-23T09:34:13.489023Z",
          "shell.execute_reply": "2023-04-23T09:34:14.075954Z"
        },
        "trusted": true,
        "id": "h_aWWtr7s6eD",
        "outputId": "df1b299a-ed63-4b4f-cc4d-cb1aaa5cafa9"
      },
      "execution_count": null,
      "outputs": [
        {
          "name": "stdout",
          "text": "PRODUCT_ID               0\nTITLE                   12\nBULLET_POINTS       837364\nDESCRIPTION        1157381\nPRODUCT_TYPE_ID          0\nPRODUCT_LENGTH           0\ndtype: int64\n",
          "output_type": "stream"
        }
      ]
    },
    {
      "cell_type": "code",
      "source": [
        "df.drop(['BULLET_POINTS', 'DESCRIPTION'], axis=1, inplace=True)"
      ],
      "metadata": {
        "_uuid": "508d752e-f511-4c9c-be53-bcf547620d94",
        "_cell_guid": "a567dc43-f804-4e3e-86c7-a3baac208430",
        "jupyter": {
          "outputs_hidden": false
        },
        "execution": {
          "iopub.status.busy": "2023-04-23T09:34:14.867474Z",
          "iopub.execute_input": "2023-04-23T09:34:14.868114Z",
          "iopub.status.idle": "2023-04-23T09:34:15.243144Z",
          "shell.execute_reply.started": "2023-04-23T09:34:14.868068Z",
          "shell.execute_reply": "2023-04-23T09:34:15.241975Z"
        },
        "trusted": true,
        "id": "9jacNwlFs6eD"
      },
      "execution_count": null,
      "outputs": []
    },
    {
      "cell_type": "code",
      "source": [
        "test_df.drop(['BULLET_POINTS', 'DESCRIPTION'], axis=1, inplace=True)"
      ],
      "metadata": {
        "_uuid": "17c3adb4-f46c-4697-b8ef-13207b92ddbe",
        "_cell_guid": "a74e3101-fd39-42ed-b46d-84ea9fb180a4",
        "jupyter": {
          "outputs_hidden": false
        },
        "execution": {
          "iopub.status.busy": "2023-04-23T09:34:16.470469Z",
          "iopub.execute_input": "2023-04-23T09:34:16.471124Z",
          "iopub.status.idle": "2023-04-23T09:34:16.587761Z",
          "shell.execute_reply.started": "2023-04-23T09:34:16.471087Z",
          "shell.execute_reply": "2023-04-23T09:34:16.586654Z"
        },
        "trusted": true,
        "id": "CIILnlMOs6eD"
      },
      "execution_count": null,
      "outputs": []
    },
    {
      "cell_type": "code",
      "source": [
        "print(df.isna().sum())"
      ],
      "metadata": {
        "_uuid": "226011f2-94bc-48cc-a375-61ec030e2e9c",
        "_cell_guid": "385af775-27b5-4893-8a0f-4c793546f98d",
        "jupyter": {
          "outputs_hidden": false
        },
        "execution": {
          "iopub.status.busy": "2023-04-23T09:34:17.654422Z",
          "iopub.execute_input": "2023-04-23T09:34:17.654823Z",
          "iopub.status.idle": "2023-04-23T09:34:17.801887Z",
          "shell.execute_reply.started": "2023-04-23T09:34:17.654788Z",
          "shell.execute_reply": "2023-04-23T09:34:17.800729Z"
        },
        "trusted": true,
        "id": "PtVJ9iZns6eE",
        "outputId": "340d2125-9d7b-4b65-e5d9-16343a7ca26b"
      },
      "execution_count": null,
      "outputs": [
        {
          "name": "stdout",
          "text": "PRODUCT_ID          0\nTITLE              12\nPRODUCT_TYPE_ID     0\nPRODUCT_LENGTH      0\ndtype: int64\n",
          "output_type": "stream"
        }
      ]
    },
    {
      "cell_type": "code",
      "source": [
        "from sklearn.preprocessing import LabelEncoder\n",
        "\n",
        "for col in ['PRODUCT_ID', 'TITLE', 'PRODUCT_TYPE_ID']: # replace col1, col2, col3 with the actual column names\n",
        "    df[col] = LabelEncoder().fit_transform(df[col])"
      ],
      "metadata": {
        "_uuid": "0c1f7368-aafe-4f90-91eb-ea0eadd407af",
        "_cell_guid": "dbbd29f7-90bd-4c27-a134-fb18593cf0dd",
        "jupyter": {
          "outputs_hidden": false
        },
        "execution": {
          "iopub.status.busy": "2023-04-23T09:34:18.735131Z",
          "iopub.execute_input": "2023-04-23T09:34:18.735518Z",
          "iopub.status.idle": "2023-04-23T09:34:32.474302Z",
          "shell.execute_reply.started": "2023-04-23T09:34:18.735483Z",
          "shell.execute_reply": "2023-04-23T09:34:32.473332Z"
        },
        "trusted": true,
        "id": "F4ELgHHYs6eE"
      },
      "execution_count": null,
      "outputs": []
    },
    {
      "cell_type": "code",
      "source": [
        "from sklearn.preprocessing import LabelEncoder\n",
        "\n",
        "for col in ['PRODUCT_ID', 'TITLE', 'PRODUCT_TYPE_ID']: # replace col1, col2, col3 with the actual column names\n",
        "    test_df[col] = LabelEncoder().fit_transform(test_df[col])"
      ],
      "metadata": {
        "_uuid": "6d0824b0-b7ab-41b1-9d6b-1ce07a27f67c",
        "_cell_guid": "4f6c86f8-8521-4b62-8432-5701acbc1c9c",
        "jupyter": {
          "outputs_hidden": false
        },
        "execution": {
          "iopub.status.busy": "2023-04-23T09:34:49.223398Z",
          "iopub.execute_input": "2023-04-23T09:34:49.223836Z",
          "iopub.status.idle": "2023-04-23T09:34:53.005289Z",
          "shell.execute_reply.started": "2023-04-23T09:34:49.223795Z",
          "shell.execute_reply": "2023-04-23T09:34:53.004077Z"
        },
        "trusted": true,
        "id": "gZ5FIqpZs6eE"
      },
      "execution_count": null,
      "outputs": []
    },
    {
      "cell_type": "code",
      "source": [
        "print(df.head())"
      ],
      "metadata": {
        "_uuid": "bbcb36a4-e9dd-44eb-b68e-4c44e302ef3c",
        "_cell_guid": "262d142a-7f35-4c2d-85d8-aa6560e6101a",
        "jupyter": {
          "outputs_hidden": false
        },
        "execution": {
          "iopub.status.busy": "2023-04-23T09:34:54.324983Z",
          "iopub.execute_input": "2023-04-23T09:34:54.326121Z",
          "iopub.status.idle": "2023-04-23T09:34:54.334913Z",
          "shell.execute_reply.started": "2023-04-23T09:34:54.326068Z",
          "shell.execute_reply": "2023-04-23T09:34:54.333668Z"
        },
        "trusted": true,
        "id": "C70HFEM2s6eE",
        "outputId": "99b0b147-0451-40b5-d1ae-f35cbd87124c"
      },
      "execution_count": null,
      "outputs": [
        {
          "name": "stdout",
          "text": "   PRODUCT_ID    TITLE  PRODUCT_TYPE_ID  PRODUCT_LENGTH\n0     1443397   209798             1629     2125.980000\n1     2004909  1200569             2698      393.700000\n2     2073792  1408667             7328      748.031495\n3     1195419    87193             2937      787.401574\n4      212957  1915247             5930      598.424000\n",
          "output_type": "stream"
        }
      ]
    },
    {
      "cell_type": "code",
      "source": [
        "print(df)"
      ],
      "metadata": {
        "_uuid": "628457d6-9170-4532-b8b7-f3949cacda1f",
        "_cell_guid": "5a83924d-1ae3-4d13-9203-b5c29a742903",
        "jupyter": {
          "outputs_hidden": false
        },
        "execution": {
          "iopub.status.busy": "2023-04-23T09:34:55.160725Z",
          "iopub.execute_input": "2023-04-23T09:34:55.161549Z",
          "iopub.status.idle": "2023-04-23T09:34:55.170559Z",
          "shell.execute_reply.started": "2023-04-23T09:34:55.161507Z",
          "shell.execute_reply": "2023-04-23T09:34:55.169422Z"
        },
        "trusted": true,
        "id": "TJ2ccGVXs6eF",
        "outputId": "9e0bd196-a772-458b-e70b-9169e1113112"
      },
      "execution_count": null,
      "outputs": [
        {
          "name": "stdout",
          "text": "         PRODUCT_ID    TITLE  PRODUCT_TYPE_ID  PRODUCT_LENGTH\n0           1443397   209798             1629     2125.980000\n1           2004909  1200569             2698      393.700000\n2           2073792  1408667             7328      748.031495\n3           1195419    87193             2937      787.401574\n4            212957  1915247             5930      598.424000\n...             ...      ...              ...             ...\n2249693     1816485  1335910             2950     1181.100000\n2249694     2074923     1794             3346      125.984252\n2249695     1490366  1019476             1554     1200.000000\n2249696      874569   633420              589     2900.000000\n2249697      804650  1715064             7161     2000.000000\n\n[2249698 rows x 4 columns]\n",
          "output_type": "stream"
        }
      ]
    },
    {
      "cell_type": "code",
      "source": [
        "print(test_df)"
      ],
      "metadata": {
        "_uuid": "1eca2ce9-cdbc-479b-9e28-4b177de84c2d",
        "_cell_guid": "b119e3a5-e933-442a-9cb5-b796432ebe7a",
        "jupyter": {
          "outputs_hidden": false
        },
        "execution": {
          "iopub.status.busy": "2023-04-23T09:34:56.212446Z",
          "iopub.execute_input": "2023-04-23T09:34:56.212886Z",
          "iopub.status.idle": "2023-04-23T09:34:56.222720Z",
          "shell.execute_reply.started": "2023-04-23T09:34:56.212831Z",
          "shell.execute_reply": "2023-04-23T09:34:56.221515Z"
        },
        "trusted": true,
        "id": "Ng-9KRHQs6eF",
        "outputId": "0b312b3b-9617-48de-a094-8d2b985cf3ad"
      },
      "execution_count": null,
      "outputs": [
        {
          "name": "stdout",
          "text": "        PRODUCT_ID   TITLE  PRODUCT_TYPE_ID\n0           150029  393756             5175\n1           425620  163606             1506\n2           460426  302369             6350\n3           273905  479331             9877\n4           154936  674400             5342\n...            ...     ...              ...\n734731      228325  129739             5964\n734732      602412  187914                1\n734733      208703   75868             8554\n734734      293939  125140            10045\n734735      257576   56039                0\n\n[734736 rows x 3 columns]\n",
          "output_type": "stream"
        }
      ]
    },
    {
      "cell_type": "code",
      "source": [
        "from sklearn.model_selection import train_test_split\n",
        "#x_train, x_test, y_train, y_test=train_test_split(df.drop('PRODUCT_LENGTH', axis=1),df['PRODUCT_LENGTH'],test_size=0.7)\n",
        "#print(x_train.shape, x_test.shape, y_train.shape, y_test.shape)"
      ],
      "metadata": {
        "_uuid": "df78a5c1-a891-4514-aed1-13916ef0c1d3",
        "_cell_guid": "b6d627ef-09a7-4cc6-adb5-19916b2c8b60",
        "jupyter": {
          "outputs_hidden": false
        },
        "execution": {
          "iopub.status.busy": "2023-04-23T09:34:57.433460Z",
          "iopub.execute_input": "2023-04-23T09:34:57.433896Z",
          "iopub.status.idle": "2023-04-23T09:34:57.500140Z",
          "shell.execute_reply.started": "2023-04-23T09:34:57.433843Z",
          "shell.execute_reply": "2023-04-23T09:34:57.499132Z"
        },
        "trusted": true,
        "id": "tO8cmN3js6eF"
      },
      "execution_count": null,
      "outputs": []
    },
    {
      "cell_type": "code",
      "source": [
        "x_train = df[['PRODUCT_ID','TITLE','PRODUCT_TYPE_ID']]\n",
        "y_train = df['PRODUCT_LENGTH']\n",
        "#x_test = test_df['PRODUCT_LENGTH']\n",
        "x_test = test_df[['PRODUCT_ID','TITLE', 'PRODUCT_TYPE_ID']]"
      ],
      "metadata": {
        "_uuid": "9e816859-06ef-41a3-807a-097a4acd2bd2",
        "_cell_guid": "25aab1ba-1d62-4c92-8f9e-a1469f7f810d",
        "jupyter": {
          "outputs_hidden": false
        },
        "execution": {
          "iopub.status.busy": "2023-04-23T09:35:07.318030Z",
          "iopub.execute_input": "2023-04-23T09:35:07.318436Z",
          "iopub.status.idle": "2023-04-23T09:35:07.371018Z",
          "shell.execute_reply.started": "2023-04-23T09:35:07.318399Z",
          "shell.execute_reply": "2023-04-23T09:35:07.369749Z"
        },
        "trusted": true,
        "id": "o2Jlnj5Ys6eF"
      },
      "execution_count": null,
      "outputs": []
    },
    {
      "cell_type": "code",
      "source": [
        "'''import numpy as np\n",
        "from sklearn.preprocessing import StandardScaler\n",
        "\n",
        "# convert x_train and x_test to Numpy arrays\n",
        "x_train_arr = np.array(x_train)\n",
        "x_test_arr = np.array(x_test)\n",
        "\n",
        "# create a StandardScaler object\n",
        "scaler = StandardScaler()\n",
        "\n",
        "# fit the scaler to the training data and transform the data\n",
        "x_train_scaled = scaler.fit_transform(x_train_arr.reshape(-1, 1))\n",
        "\n",
        "# transform the test data using the same scaler\n",
        "x_test_scaled = scaler.transform(x_test_arr.reshape(-1, 1))\n",
        "\n",
        "# alternatively, you can reshape the array to have two dimensions as a single sample\n",
        "# x_test_scaled = scaler.transform(x_test_arr.reshape(1, -1))\n",
        "'''"
      ],
      "metadata": {
        "_uuid": "f895434c-91ca-41b1-b1bb-3b86ada5a617",
        "_cell_guid": "88f16902-129d-43d3-adbc-09d1ecfe73fb",
        "jupyter": {
          "outputs_hidden": false
        },
        "trusted": true,
        "id": "T9g2RGers6eG"
      },
      "execution_count": null,
      "outputs": []
    },
    {
      "cell_type": "code",
      "source": [
        "from sklearn.preprocessing import StandardScaler\n",
        "scaler = StandardScaler()\n",
        "x_train_scaled = scaler.fit_transform(x_train)\n",
        "x_test_scaled = scaler.transform(x_test)\n",
        "from sklearn.preprocessing import StandardScaler\n",
        "\n",
        "'''# create a scaler object\n",
        "scaler = StandardScaler()\n",
        "\n",
        "# fit and transform the training data\n",
        "x_train_scaled = scaler.fit_transform(x_train)\n",
        "\n",
        "# transform the test data using the same scaler\n",
        "# reshape the array to have two dimensions\n",
        "x_test_scaled = scaler.transform(x_test.reshape(-1, 1)) \n",
        "\n",
        "# alternatively, you can reshape the array to have two dimensions as a single sample\n",
        "# x_test_scaled = scaler.transform(x_test.reshape(1, -1))\n",
        "'''"
      ],
      "metadata": {
        "_uuid": "bbb1ce59-be77-4684-b1d6-834b9a84a5c6",
        "_cell_guid": "f68987b9-a017-422e-b6f4-1b1ee2a82cb9",
        "jupyter": {
          "outputs_hidden": false
        },
        "execution": {
          "iopub.status.busy": "2023-04-23T09:35:12.979590Z",
          "iopub.execute_input": "2023-04-23T09:35:12.980051Z",
          "iopub.status.idle": "2023-04-23T09:35:13.086990Z",
          "shell.execute_reply.started": "2023-04-23T09:35:12.980006Z",
          "shell.execute_reply": "2023-04-23T09:35:13.085835Z"
        },
        "trusted": true,
        "id": "yi11gk02s6eG",
        "outputId": "baee7ddc-28f1-4971-b6c7-ad6ed30c5beb"
      },
      "execution_count": null,
      "outputs": [
        {
          "execution_count": 16,
          "output_type": "execute_result",
          "data": {
            "text/plain": "'# create a scaler object\\nscaler = StandardScaler()\\n\\n# fit and transform the training data\\nx_train_scaled = scaler.fit_transform(x_train)\\n\\n# transform the test data using the same scaler\\n# reshape the array to have two dimensions\\nx_test_scaled = scaler.transform(x_test.reshape(-1, 1)) \\n\\n# alternatively, you can reshape the array to have two dimensions as a single sample\\n# x_test_scaled = scaler.transform(x_test.reshape(1, -1))\\n'"
          },
          "metadata": {}
        }
      ]
    },
    {
      "cell_type": "code",
      "source": [
        "from sklearn.linear_model import LinearRegression\n",
        "model = LinearRegression()\n",
        "model.fit(x_train_scaled, y_train)\n",
        "\n",
        "# Making predictions\n",
        "y_pred = model.predict(x_test_scaled)"
      ],
      "metadata": {
        "_uuid": "5ca93720-1b0b-4eb5-891e-2ab3096ef8de",
        "_cell_guid": "155fee08-982d-413d-9d36-8feed06452d9",
        "jupyter": {
          "outputs_hidden": false
        },
        "execution": {
          "iopub.status.busy": "2023-04-23T09:35:15.243642Z",
          "iopub.execute_input": "2023-04-23T09:35:15.244358Z",
          "iopub.status.idle": "2023-04-23T09:35:15.516716Z",
          "shell.execute_reply.started": "2023-04-23T09:35:15.244314Z",
          "shell.execute_reply": "2023-04-23T09:35:15.515283Z"
        },
        "trusted": true,
        "id": "WXPZEW68s6eG"
      },
      "execution_count": null,
      "outputs": []
    },
    {
      "cell_type": "code",
      "source": [
        "from sklearn.metrics import accuracy_score\n",
        "from sklearn.svm import SVC"
      ],
      "metadata": {
        "_uuid": "e5b1f485-768e-4837-b76f-232498dd3148",
        "_cell_guid": "0a441969-b200-4247-9dc7-17eac4794fd9",
        "jupyter": {
          "outputs_hidden": false
        },
        "trusted": true,
        "id": "RaV4CoJ4s6eH"
      },
      "execution_count": null,
      "outputs": []
    },
    {
      "cell_type": "code",
      "source": [
        "from sklearn.svm import SVR\n",
        "from sklearn.metrics import mean_squared_error\n",
        "\n",
        "# instantiate the model\n",
        "model = SVR()\n",
        "\n",
        "# fit the model to the training data\n",
        "model.fit(x_train, y_train)\n",
        "\n",
        "# make predictions on the training and test data\n",
        "train_pred = model.predict(x_train)\n",
        "test_pred = model.predict(x_test)\n",
        "\n",
        "# evaluate the performance of the model using mean squared error\n",
        "train_mse = mean_squared_error(y_train, train_pred)\n",
        "test_mse = mean_squared_error(y_test, test_pred)\n",
        "print(\"Training MSE: \", train_mse)\n",
        "print(\"Test MSE: \", test_mse)"
      ],
      "metadata": {
        "_uuid": "a4886c53-1178-452d-991d-b997b1aa224f",
        "_cell_guid": "4cae0dfb-2611-41ca-ae5a-e6d4c67639c8",
        "jupyter": {
          "outputs_hidden": false
        },
        "trusted": true,
        "id": "YyCU50Jts6eH"
      },
      "execution_count": null,
      "outputs": []
    },
    {
      "cell_type": "code",
      "source": [
        "from sklearn.linear_model import LinearRegression\n",
        "lr=LinearRegression()\n",
        "lr.fit(x_train,y_train)"
      ],
      "metadata": {
        "_uuid": "506307fb-4b4f-46bf-aa7c-9df68ea94252",
        "_cell_guid": "c629d970-faa6-43a6-ba9a-c2c72c1a50e8",
        "jupyter": {
          "outputs_hidden": false
        },
        "execution": {
          "iopub.status.busy": "2023-04-23T09:35:47.583653Z",
          "iopub.execute_input": "2023-04-23T09:35:47.584070Z",
          "iopub.status.idle": "2023-04-23T09:35:47.761737Z",
          "shell.execute_reply.started": "2023-04-23T09:35:47.584032Z",
          "shell.execute_reply": "2023-04-23T09:35:47.760435Z"
        },
        "trusted": true,
        "id": "jo6D0iPes6eH",
        "outputId": "55120eda-4faa-4cc4-f872-0f49d86b5b61"
      },
      "execution_count": null,
      "outputs": [
        {
          "execution_count": 18,
          "output_type": "execute_result",
          "data": {
            "text/plain": "LinearRegression()"
          },
          "metadata": {}
        }
      ]
    },
    {
      "cell_type": "code",
      "source": [
        "pred=lr.predict(x_test)\n",
        "pred_train=lr.predict(x_train)\n",
        "final_train=lr.predict(x_test)\n",
        "mse=(np.sum(np.abs(y_train-pred_train))/y_train.shape[0])\n",
        "print(mse)"
      ],
      "metadata": {
        "_uuid": "7db3ff88-b7a4-4f67-a003-d70edbbe9318",
        "_cell_guid": "9f606a9d-9659-4170-a816-888dabb97927",
        "jupyter": {
          "outputs_hidden": false
        },
        "execution": {
          "iopub.status.busy": "2023-04-23T09:35:49.016293Z",
          "iopub.execute_input": "2023-04-23T09:35:49.017110Z",
          "iopub.status.idle": "2023-04-23T09:35:49.123902Z",
          "shell.execute_reply.started": "2023-04-23T09:35:49.017039Z",
          "shell.execute_reply": "2023-04-23T09:35:49.122563Z"
        },
        "trusted": true,
        "id": "hv0CsMrhs6eI",
        "outputId": "f16ca72d-5f9c-4eab-cb3b-002784599a22"
      },
      "execution_count": null,
      "outputs": [
        {
          "name": "stdout",
          "text": "6332.595560986682\n",
          "output_type": "stream"
        }
      ]
    },
    {
      "cell_type": "code",
      "source": [
        "from sklearn.metrics import mean_absolute_percentage_error\n",
        "score =  100*(1-mean_absolute_percentage_error(y_train, pred_train))\n",
        "print(f'Score: {score}')"
      ],
      "metadata": {
        "_uuid": "d5b408e8-baf6-45e0-9f12-9c52cfd6a45c",
        "_cell_guid": "b3d1f1b3-4e4d-42ac-a14e-f0e91adec636",
        "jupyter": {
          "outputs_hidden": false
        },
        "execution": {
          "iopub.status.busy": "2023-04-23T09:38:04.115307Z",
          "iopub.execute_input": "2023-04-23T09:38:04.116417Z",
          "iopub.status.idle": "2023-04-23T09:38:04.146018Z",
          "shell.execute_reply.started": "2023-04-23T09:38:04.116356Z",
          "shell.execute_reply": "2023-04-23T09:38:04.144828Z"
        },
        "trusted": true,
        "id": "_UILHqDTs6eI",
        "outputId": "bb40fab7-d2a5-4392-f1e2-e980490d1e8b"
      },
      "execution_count": null,
      "outputs": [
        {
          "name": "stdout",
          "text": "Score: -1385.9531029555117\n",
          "output_type": "stream"
        }
      ]
    },
    {
      "cell_type": "code",
      "source": [
        "submission_df = pd.DataFrame({'PRODUCT_ID': test_df['PRODUCT_ID'], 'PRODUCT_LENGTH': y_pred})\n",
        "submission_df.to_csv('submission.csv', index=False)\n",
        "\n",
        "# Evaluating the model"
      ],
      "metadata": {
        "_uuid": "94a1b3aa-1449-4642-91d7-045c02900927",
        "_cell_guid": "e9a8592c-1718-4181-8d44-cb5bded8f403",
        "jupyter": {
          "outputs_hidden": false
        },
        "execution": {
          "iopub.status.busy": "2023-04-23T09:51:03.446778Z",
          "iopub.execute_input": "2023-04-23T09:51:03.447414Z",
          "iopub.status.idle": "2023-04-23T09:51:05.205731Z",
          "shell.execute_reply.started": "2023-04-23T09:51:03.447361Z",
          "shell.execute_reply": "2023-04-23T09:51:05.203843Z"
        },
        "trusted": true,
        "id": "I-i0Ea9gs6eI"
      },
      "execution_count": null,
      "outputs": []
    },
    {
      "cell_type": "code",
      "source": [
        "test_df = pd.read_csv('test.csv')\n",
        "\n",
        "# Feature engineering\n",
        "# Combine product title, description, and bullet points into one feature\n",
        "train_df['text'] = train_df['TITLE'] + ' ' + train_df['DESCRIPTION'] + ' ' + train_df['BULLET_POINTS']\n",
        "test_df['text'] = test_df['TITLE'] + ' ' + test_df['DESCRIPTION'] + ' ' + test_df['BULLET_POINTS']\n",
        "\n",
        "# Selecting relevant features\n",
        "X_train = train_df[['text', 'PRODUCT_TYPE_ID']]\n",
        "y_train = train_df['PRODUCT_LENGTH']\n",
        "X_test = test_df[['text', 'PRODUCT_TYPE_ID']]\n",
        "\n",
        "# Text preprocessing\n",
        "# TODO: Implement text preprocessing steps such as tokenization, stop word removal, and stemming\n",
        "\n",
        "# Scaling the features\n",
        "scaler = StandardScaler()\n",
        "X_train_scaled = scaler.fit_transform(X_train)\n",
        "X_test_scaled = scaler.transform(X_test)\n",
        "\n",
        "# Training the model\n",
        "model = LinearRegression()\n",
        "model.fit(X_train_scaled, y_train)\n",
        "\n",
        "# Making predictions\n",
        "y_pred = model.predict(X_test_scaled)\n",
        "\n",
        "# Generating submission file\n",
        "submission_df = pd.DataFrame({'PRODUCT_ID': test_df['PRODUCT_ID'], 'PRODUCT_LENGTH': y_pred})\n",
        "submission_df.to_csv('submission.csv', index=False)\n",
        "\n",
        "# Evaluating the model\n",
        "y_train_pred = model.predict(X_train_scaled)\n",
        "score = max(0, 100*(1-mean_absolute_percentage_error(y_train, y_train_pred)))\n",
        "print(f'Score: {score}')"
      ],
      "metadata": {
        "_uuid": "5a1ff230-7a73-45ee-b4a2-506fc6531602",
        "_cell_guid": "1d72f3a4-c4f4-4882-8ce6-091df3a34208",
        "jupyter": {
          "outputs_hidden": false
        },
        "trusted": true,
        "id": "o2dWlHsAs6eJ"
      },
      "execution_count": null,
      "outputs": []
    },
    {
      "cell_type": "code",
      "source": [
        "model = SVC()\n",
        "model.fit(x_train,y_train)\n",
        "train_pred=model.predict(x_train)\n",
        "test_pred=model.predict(x_test)\n",
        "print(\"training accuracy is : \", accuracy_score(train_pred,y_train))\n",
        "print(\"testing accuracy is : \", accuracy_score(test_pred,y_test))"
      ],
      "metadata": {
        "_uuid": "7e73a263-b114-4199-a289-adfabd26ebae",
        "_cell_guid": "fb430b06-f21b-40b7-89ca-60428f9e530d",
        "jupyter": {
          "outputs_hidden": false
        },
        "trusted": true,
        "id": "KEbXJ_CEs6eJ"
      },
      "execution_count": null,
      "outputs": []
    },
    {
      "cell_type": "code",
      "source": [],
      "metadata": {
        "_uuid": "dadf3f24-aca5-4e7c-aa3c-e8422fdc115a",
        "_cell_guid": "f3108402-f15c-47ee-9f0b-6ae8508dd2d4",
        "jupyter": {
          "outputs_hidden": false
        },
        "trusted": true,
        "id": "QpowORI5s6eJ"
      },
      "execution_count": null,
      "outputs": []
    },
    {
      "cell_type": "code",
      "source": [],
      "metadata": {
        "_uuid": "409205c3-6fd7-4b8e-afba-53155a67d36e",
        "_cell_guid": "67fcabf6-df03-4950-aafc-7a1ae7357925",
        "jupyter": {
          "outputs_hidden": false
        },
        "trusted": true,
        "id": "2LdXIi9cs6eK"
      },
      "execution_count": null,
      "outputs": []
    }
  ]
}